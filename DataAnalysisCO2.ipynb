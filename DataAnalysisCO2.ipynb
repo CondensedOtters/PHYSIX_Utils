{
 "cells": [
  {
   "cell_type": "markdown",
   "metadata": {},
   "source": [
    "# 1 - Data analysis of CO2 under extreme conditions"
   ]
  },
  {
   "cell_type": "code",
   "execution_count": 1,
   "metadata": {},
   "outputs": [],
   "source": [
    "# Loading all important libraries\n",
    "\n",
    "import numpy as np\n",
    "import scipy as scp\n",
    "import dscribe as ds\n",
    "import matplotlib.pyplot as plt\n",
    "from mpl_toolkits.mplot3d import Axes3D\n",
    "\n",
    "# folder stuff\n",
    "\n",
    "home_folder=str(\"/home/moogmt\");\n",
    "co2_folder=home_folder+str(\"/CO2/CO2_AIMD/\");\n",
    "\n",
    "# Temperature and volumes\n",
    "\n",
    "V=8.82;\n",
    "T=3000;\n",
    "\n",
    "# final folder\n",
    "\n",
    "data_folder=co2_folder+str(V)+\"/\"+str(T)+\"K/\";\n",
    "\n",
    "# final .xyz\n",
    "\n",
    "filepath=data_folder+str(\"TRAJEC_wrapped.xyz\");"
   ]
  },
  {
   "cell_type": "code",
   "execution_count": 8,
   "metadata": {},
   "outputs": [],
   "source": [
    "# Useful functions\n",
    "\n",
    "def getNbSteps( filepath ):\n",
    "    # Values to return\n",
    "    step_number=0\n",
    "    nb_atoms=0\n",
    "    # Reading file\n",
    "    fp=open( filepath, \"r\" )\n",
    "    read=fp.readline()\n",
    "    if read != \"\" :\n",
    "        nb_atoms=int(((read.rstrip(\"\\n\")).split())[0])\n",
    "    while ( read != \"\" ) :\n",
    "        step_number += 1\n",
    "        read=fp.readline()\n",
    "    fp.close()\n",
    "    return nb_atoms, int(step_number/(nb_atoms+2))\n",
    "\n",
    "def getTypes( filepath, nb_atoms ):\n",
    "    # Initialize file\n",
    "    types_names = [\"\" for x in range(nb_atoms)]\n",
    "    fp=open( filepath, \"r\" )\n",
    "    fp.readline()\n",
    "    fp.readline()\n",
    "    for atom in range(nb_atoms):\n",
    "        types_names[atom]=((fp.readline().rstrip(\"\\n\")).split())[0]\n",
    "    fp.close()\n",
    "    types=[ types_names[1] ]\n",
    "    types_vector=[0]\n",
    "    for atom in range(nb_atoms):\n",
    "        found = False \n",
    "        for i in range(len(types)):\n",
    "            if types_names[atom] == types[i] :\n",
    "                types_vector=np.append(types_vector,i)\n",
    "                found = True\n",
    "                break\n",
    "        if not(found):\n",
    "            types=np.append(types,types_names[atom])\n",
    "            types_vector=np.append(types_vector,i)\n",
    "    return types, types_vector\n",
    "\n",
    "def readXYZ( filepath ):\n",
    "    nb_atoms, nb_steps = getNbSteps( filepath )\n",
    "    types, types_vector = getTypes( filepath, nb_atoms )\n",
    "    positions=np.zeros(( nb_steps, nb_atoms, 3 ))        \n",
    "    fp=open( filepath, \"r\" )\n",
    "    for step in range( nb_steps ):\n",
    "        # Reading two comments lines\n",
    "        fp.readline()\n",
    "        fp.readline()\n",
    "        for atom in range( nb_atoms ):\n",
    "            line=(fp.readline()).rstrip(\"\\n\").split()\n",
    "            # Reading two comments lines\n",
    "            for i in range(3):\n",
    "                positions[step,atom,i] = float(line[i+1])\n",
    "    fp.close()\n",
    "    return positions, types, types_vector\n",
    "\n",
    "def cellOrthoDistance( x1, x2, a):\n",
    "    dx=x1-x2\n",
    "    if dx > a*0.5:\n",
    "        dx -= a\n",
    "    if dx < -a*0.5:\n",
    "        dx += a\n",
    "    return dx*dx\n",
    "\n",
    "def distance( position1, position2, cell_param ):\n",
    "    dist=0\n",
    "    for i in range(3):\n",
    "        dist += cellOrthoDistance( position1[i], position2[i], cell_param[i] )\n",
    "    return np.sqrt(dist)\n",
    "\n",
    "def distanceMatrix( positions, nb_atoms, cell_lengths ):\n",
    "    distance_matrix=np.zeros((nb_atoms,nb_atoms))\n",
    "    for i in range(nb_atoms):\n",
    "        for j in range(i+1,nb_atoms):\n",
    "            distance_matrix[i,j]=distance( positions[i,:], positions[j,:], cell_lengths )\n",
    "            distance_matrix[j,i]=distance_matrix[i,j]\n",
    "    return distance_matrix\n",
    "\n",
    "def writeData( filepath, data ):    \n",
    "    fp=open( filepath, \"w\" )\n",
    "    for i in range(np.shape(data)[0]):\n",
    "        for j in range(np.shape(data)[1]):\n",
    "            fp.write(str(data[i,j])+\" \")\n",
    "        fp.write(\"\\n\")\n",
    "    fp.close()\n",
    "    return \n",
    "\n",
    "def computeDensity( data, nb_points ):\n",
    "    density=np.zeros(( nb_points ))\n",
    "    mins=np.zeros((len(nb_points)))\n",
    "    maxs=np.zeros((len(nb_points)))\n",
    "    deltas=np.zeros((len(nb_points)))\n",
    "    for i in range(len(nb_points)):\n",
    "        mins[i] = np.min(data[:,i])\n",
    "        maxs[i] = np.max(data[:,i])\n",
    "        deltas[i] = (maxs[i]-mins[i])/nb_points[i]\n",
    "    nb_data=len(data[:,0])\n",
    "    for i in range(nb_data):\n",
    "        indexs=np.zeros((3))\n",
    "        for j in range(3):\n",
    "            indexs[j]=(data[i,j]-mins[j])/deltas[j]-1\n",
    "        density[int(indexs[0]),int(indexs[1]),int(indexs[2])] += 1\n",
    "    return density/nb_data, mins, maxs, deltas\n"
   ]
  },
  {
   "cell_type": "code",
   "execution_count": 3,
   "metadata": {},
   "outputs": [],
   "source": [
    "# Reading file\n",
    "positions,types,types_vector=readXYZ(filepath)\n",
    "nb_steps,nb_atoms,dim = np.shape(positions)"
   ]
  },
  {
   "cell_type": "code",
   "execution_count": 9,
   "metadata": {},
   "outputs": [],
   "source": [
    "# Computing Data\n",
    "\n",
    "max_neigh=4\n",
    "nbC=32\n",
    "nb_steps_max=500\n",
    "nb_data=nb_steps_max*nbC\n",
    "data=np.zeros((nb_data,max_neigh))\n",
    "\n",
    "count=0\n",
    "for step in range(nb_steps_max):\n",
    "    distance_matrix=distanceMatrix(positions[step,:,:],nb_atoms,[V,V,V])\n",
    "    for atom in range(nbC):\n",
    "        indexs=np.argsort(distance_matrix[atom,:])\n",
    "        distance_matrix[atom,:]=distance_matrix[atom,indexs]\n",
    "        data[count,:]=distance_matrix[atom,1:max_neigh+1]\n",
    "        count += 1\n"
   ]
  },
  {
   "cell_type": "code",
   "execution_count": 78,
   "metadata": {},
   "outputs": [],
   "source": [
    "# Writting data to file\n",
    "file_out=data_folder+str(\"data.dat\");\n",
    "writeData(file_out,data)"
   ]
  },
  {
   "cell_type": "markdown",
   "metadata": {},
   "source": [
    "Et donc ici:"
   ]
  },
  {
   "cell_type": "code",
   "execution_count": 10,
   "metadata": {},
   "outputs": [],
   "source": [
    "nb_boxes=[100,100,100,100]\n",
    "density,mins,maxs,deltas=computeDensity(data,nb_boxes)"
   ]
  },
  {
   "cell_type": "code",
   "execution_count": 28,
   "metadata": {},
   "outputs": [
    {
     "data": {
      "text/plain": [
       "array([ 0.000125,  0.000125,  0.000125, ...,  0.000125,  0.000125,\n",
       "        0.000125])"
      ]
     },
     "execution_count": 28,
     "metadata": {},
     "output_type": "execute_result"
    }
   ],
   "source": []
  },
  {
   "cell_type": "code",
   "execution_count": null,
   "metadata": {},
   "outputs": [],
   "source": []
  }
 ],
 "metadata": {
  "kernelspec": {
   "display_name": "Python 3",
   "language": "python",
   "name": "python3"
  },
  "language_info": {
   "codemirror_mode": {
    "name": "ipython",
    "version": 3
   },
   "file_extension": ".py",
   "mimetype": "text/x-python",
   "name": "python",
   "nbconvert_exporter": "python",
   "pygments_lexer": "ipython3",
   "version": "3.6.7"
  }
 },
 "nbformat": 4,
 "nbformat_minor": 2
}
